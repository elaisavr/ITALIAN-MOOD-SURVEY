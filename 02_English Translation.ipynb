{
 "cells": [
  {
   "cell_type": "markdown",
   "metadata": {},
   "source": [
    "# English Translation"
   ]
  },
  {
   "cell_type": "markdown",
   "metadata": {},
   "source": [
    "Survey datas such as questions, and all columns are translated from Italian to English"
   ]
  },
  {
   "cell_type": "code",
   "execution_count": 1,
   "metadata": {},
   "outputs": [],
   "source": [
    "# import libraries\n",
    "import pandas as pd\n",
    "import numpy as np"
   ]
  },
  {
   "cell_type": "code",
   "execution_count": 2,
   "metadata": {},
   "outputs": [
    {
     "name": "stdout",
     "output_type": "stream",
     "text": [
      "(641480, 18)\n"
     ]
    },
    {
     "data": {
      "text/html": [
       "<div>\n",
       "<style scoped>\n",
       "    .dataframe tbody tr th:only-of-type {\n",
       "        vertical-align: middle;\n",
       "    }\n",
       "\n",
       "    .dataframe tbody tr th {\n",
       "        vertical-align: top;\n",
       "    }\n",
       "\n",
       "    .dataframe thead th {\n",
       "        text-align: right;\n",
       "    }\n",
       "</style>\n",
       "<table border=\"1\" class=\"dataframe\">\n",
       "  <thead>\n",
       "    <tr style=\"text-align: right;\">\n",
       "      <th></th>\n",
       "      <th>ID_Rispondente</th>\n",
       "      <th>Variabile</th>\n",
       "      <th>Domanda</th>\n",
       "      <th>Topic</th>\n",
       "      <th>labels_risposta</th>\n",
       "      <th>values_risposta</th>\n",
       "      <th>Age</th>\n",
       "      <th>CAP</th>\n",
       "      <th>Provincia</th>\n",
       "      <th>Numero di abitanti</th>\n",
       "      <th>Ultimo titolo di studio conseguito</th>\n",
       "      <th>Data e ora di compilazione del questionario</th>\n",
       "      <th>Secondi per risposta</th>\n",
       "      <th>Sesso</th>\n",
       "      <th>peso</th>\n",
       "      <th>idRispondente</th>\n",
       "      <th>Hai animali domestici che vivono con te?</th>\n",
       "      <th>Nel tuo nucleo familiare sono presenti bambini (0-14 anni)? E se sì, quanti</th>\n",
       "    </tr>\n",
       "  </thead>\n",
       "  <tbody>\n",
       "    <tr>\n",
       "      <th>0</th>\n",
       "      <td>221250719</td>\n",
       "      <td>B11_Q62_A_1</td>\n",
       "      <td>Di seguito trovi una serie di parole che indic...</td>\n",
       "      <td>Attivo/ intraprendente</td>\n",
       "      <td>Molto</td>\n",
       "      <td>5</td>\n",
       "      <td>20</td>\n",
       "      <td>70032</td>\n",
       "      <td>BA</td>\n",
       "      <td>56929.0</td>\n",
       "      <td>Diploma di scuola media superiore</td>\n",
       "      <td>2023-02-14 19:06:44</td>\n",
       "      <td>10.849250</td>\n",
       "      <td>Un uomo</td>\n",
       "      <td>5.458265</td>\n",
       "      <td>221250719.0</td>\n",
       "      <td>No</td>\n",
       "      <td>No, nel mio nucleo non ci sono bambini 0-14 anni</td>\n",
       "    </tr>\n",
       "    <tr>\n",
       "      <th>1</th>\n",
       "      <td>89508748</td>\n",
       "      <td>B11_Q62_A_1</td>\n",
       "      <td>Di seguito trovi una serie di parole che indic...</td>\n",
       "      <td>Attivo/ intraprendente</td>\n",
       "      <td>Un po' sì e un po' no</td>\n",
       "      <td>3</td>\n",
       "      <td>21</td>\n",
       "      <td>87060</td>\n",
       "      <td>CS</td>\n",
       "      <td>1281.0</td>\n",
       "      <td>Diploma di scuola media superiore</td>\n",
       "      <td>2023-02-27 18:36:02</td>\n",
       "      <td>12.965000</td>\n",
       "      <td>Una donna</td>\n",
       "      <td>5.458265</td>\n",
       "      <td>89508748.0</td>\n",
       "      <td>No</td>\n",
       "      <td>No, nel mio nucleo non ci sono bambini 0-14 anni</td>\n",
       "    </tr>\n",
       "    <tr>\n",
       "      <th>2</th>\n",
       "      <td>98143773</td>\n",
       "      <td>B11_Q62_A_1</td>\n",
       "      <td>Di seguito trovi una serie di parole che indic...</td>\n",
       "      <td>Attivo/ intraprendente</td>\n",
       "      <td>Poco</td>\n",
       "      <td>2</td>\n",
       "      <td>21</td>\n",
       "      <td>63822</td>\n",
       "      <td>FM</td>\n",
       "      <td>16062.0</td>\n",
       "      <td>Diploma di scuola media superiore</td>\n",
       "      <td>2023-02-19 18:39:59</td>\n",
       "      <td>9.831083</td>\n",
       "      <td>Una donna</td>\n",
       "      <td>5.458265</td>\n",
       "      <td>98143773.0</td>\n",
       "      <td>Sì</td>\n",
       "      <td>No, nel mio nucleo non ci sono bambini 0-14 anni</td>\n",
       "    </tr>\n",
       "  </tbody>\n",
       "</table>\n",
       "</div>"
      ],
      "text/plain": [
       "   ID_Rispondente    Variabile  \\\n",
       "0       221250719  B11_Q62_A_1   \n",
       "1        89508748  B11_Q62_A_1   \n",
       "2        98143773  B11_Q62_A_1   \n",
       "\n",
       "                                             Domanda                   Topic  \\\n",
       "0  Di seguito trovi una serie di parole che indic...  Attivo/ intraprendente   \n",
       "1  Di seguito trovi una serie di parole che indic...  Attivo/ intraprendente   \n",
       "2  Di seguito trovi una serie di parole che indic...  Attivo/ intraprendente   \n",
       "\n",
       "         labels_risposta  values_risposta  Age    CAP Provincia  \\\n",
       "0                  Molto                5   20  70032        BA   \n",
       "1  Un po' sì e un po' no                3   21  87060        CS   \n",
       "2                   Poco                2   21  63822        FM   \n",
       "\n",
       "   Numero di abitanti Ultimo titolo di studio conseguito  \\\n",
       "0             56929.0  Diploma di scuola media superiore   \n",
       "1              1281.0  Diploma di scuola media superiore   \n",
       "2             16062.0  Diploma di scuola media superiore   \n",
       "\n",
       "  Data e ora di compilazione del questionario  Secondi per risposta  \\\n",
       "0                         2023-02-14 19:06:44             10.849250   \n",
       "1                         2023-02-27 18:36:02             12.965000   \n",
       "2                         2023-02-19 18:39:59              9.831083   \n",
       "\n",
       "       Sesso      peso  idRispondente  \\\n",
       "0    Un uomo  5.458265    221250719.0   \n",
       "1  Una donna  5.458265     89508748.0   \n",
       "2  Una donna  5.458265     98143773.0   \n",
       "\n",
       "  Hai animali domestici che vivono con te?  \\\n",
       "0                                       No   \n",
       "1                                       No   \n",
       "2                                       Sì   \n",
       "\n",
       "  Nel tuo nucleo familiare sono presenti bambini (0-14 anni)? E se sì, quanti  \n",
       "0   No, nel mio nucleo non ci sono bambini 0-14 anni                           \n",
       "1   No, nel mio nucleo non ci sono bambini 0-14 anni                           \n",
       "2   No, nel mio nucleo non ci sono bambini 0-14 anni                           "
      ]
     },
     "execution_count": 2,
     "metadata": {},
     "output_type": "execute_result"
    }
   ],
   "source": [
    "# load cleaned survey from first notebook\n",
    "survey = pd.read_csv(r'data_clean/01_indagine_final_df.csv')\n",
    "print(survey.shape)\n",
    "survey.head(3)"
   ]
  },
  {
   "cell_type": "code",
   "execution_count": 3,
   "metadata": {},
   "outputs": [
    {
     "data": {
      "text/plain": [
       "Index(['ID_Rispondente', 'Variabile', 'Domanda', 'Topic', 'labels_risposta',\n",
       "       'values_risposta', 'Age', 'CAP', 'Provincia', 'Numero di abitanti',\n",
       "       'Ultimo titolo di studio conseguito',\n",
       "       'Data e ora di compilazione del questionario', 'Secondi per risposta',\n",
       "       'Sesso', 'peso', 'idRispondente',\n",
       "       'Hai animali domestici che vivono con te?',\n",
       "       'Nel tuo nucleo familiare sono presenti bambini (0-14 anni)? E se sì, quanti'],\n",
       "      dtype='object')"
      ]
     },
     "execution_count": 3,
     "metadata": {},
     "output_type": "execute_result"
    }
   ],
   "source": [
    "# check columns names\n",
    "survey.columns"
   ]
  },
  {
   "cell_type": "code",
   "execution_count": 4,
   "metadata": {},
   "outputs": [],
   "source": [
    "# rename columns with English headers\n",
    "survey.rename(columns={'ID_Rispondente':'User ID', 'Variabile':'Variable', 'Domanda':'Question', 'labels_risposta':'Answer Label',\n",
    "                       'values_risposta':'Answer Value', 'Provincia':'City', 'Numero di abitanti':'Num. of Citizens',\n",
    "                       'Ultimo titolo di studio conseguito':'Highest Education', 'Data e ora di compilazione del questionario':'Survey filling date and time',\n",
    "                       'Secondi per risposta':'Seconds to Answer', 'Sesso':'Sex', 'peso':'User Social Weight', 'Hai animali domestici che vivono con te?':'Pet Friends',\n",
    "                       'Nel tuo nucleo familiare sono presenti bambini (0-14 anni)? E se sì, quanti':'Num. of Children (0-14 years)'}, inplace= True)"
   ]
  },
  {
   "cell_type": "code",
   "execution_count": 5,
   "metadata": {},
   "outputs": [
    {
     "data": {
      "text/plain": [
       "Index(['User ID', 'Variable', 'Question', 'Topic', 'Answer Label',\n",
       "       'Answer Value', 'Age', 'CAP', 'City', 'Num. of Citizens',\n",
       "       'Highest Education', 'Survey filling date and time',\n",
       "       'Seconds to Answer', 'Sex', 'User Social Weight', 'idRispondente',\n",
       "       'Pet Friends', 'Num. of Children (0-14 years)'],\n",
       "      dtype='object')"
      ]
     },
     "execution_count": 5,
     "metadata": {},
     "output_type": "execute_result"
    }
   ],
   "source": [
    "survey.columns"
   ]
  },
  {
   "cell_type": "code",
   "execution_count": 6,
   "metadata": {},
   "outputs": [
    {
     "name": "stdout",
     "output_type": "stream",
     "text": [
      "['Di seguito trovi una serie di parole che indicano diverse sensazioni ed emozioni. Per ogni parola indica quanto ti senti così oggi'\n",
      " 'Quando pensi al futuro, fra un anno ti vedi più o meno...'\n",
      " 'Come vedi la tua vita nei prossimi 12 mesi?Quanto ritieni probabile entro i prossimi 12 mesi di...'\n",
      " \"Quali sono i tre stati d'animo principali che caratterizzano le relazioni che vivi in casa tua?\"\n",
      " \"Quali sono i tre stati d'animo principali che caratterizzano le relazioni che vivi con le persone che abitano vicino a te (per es., nel tuo quartiere/ paese)?\"\n",
      " \"Quando pensi all'attualità italiana (politica, economia, cronaca, cultura, etc.) quali sono i tre stati d'animo principali che accompagnano la tua lettura degli eventi?\"\n",
      " \"E, infine, quando pensi alle vicende del mondo (politica, economia, progetti, eventi, etc.) quali sono i tre stati d'animo principali che accompagnano la tua lettura degli eventi?\"\n",
      " 'In generale, quanto sei soddisfatto di come sta andando la tua vita?'\n",
      " \"In generale, quanto sei soddisfatto di come sta andando l'Italia?\"]\n"
     ]
    }
   ],
   "source": [
    "# check survey questions\n",
    "print(survey['Question'].unique())"
   ]
  },
  {
   "cell_type": "code",
   "execution_count": 7,
   "metadata": {},
   "outputs": [],
   "source": [
    "# translate each question in English\n",
    "survey['Question'].replace('Di seguito trovi una serie di parole che indicano diverse sensazioni ed emozioni. Per ogni parola indica quanto ti senti così oggi',\n",
    "                           'Please find below some words indicating different sensations and emotions. For each word chose how much you feel this way today', inplace= True)\n",
    "\n",
    "survey['Question'].replace('Quando pensi al futuro, fra un anno ti vedi più o meno...',\n",
    "                           'Thinking about the future, in a year you\\'ll see yourself more or less...', inplace= True)\n",
    "\n",
    "survey['Question'].replace('Come vedi la tua vita nei prossimi 12 mesi?Quanto ritieni probabile entro i prossimi 12 mesi di...',\n",
    "                           'How do you see your life in the next 12 months? How likely will the next 12 months be to...', inplace= True)\n",
    "\n",
    "survey['Question'].replace(\"Quali sono i tre stati d'animo principali che caratterizzano le relazioni che vivi in casa tua?\",\n",
    "                           \"What are the three main moods that characterize the relationships at your home?\", inplace= True)\n",
    "\n",
    "survey['Question'].replace(\"Quali sono i tre stati d'animo principali che caratterizzano le relazioni che vivi con le persone che abitano vicino a te (per es., nel tuo quartiere/ paese)?\",\n",
    "                           \"What are the three main moods that characterize the relationships you experience with the people who live near you (e.g., in your neighborhood/town)?\", inplace= True)\n",
    "\n",
    "survey['Question'].replace(\"Quando pensi all'attualità italiana (politica, economia, cronaca, cultura, etc.) quali sono i tre stati d'animo principali che accompagnano la tua lettura degli eventi?\",\n",
    "                           \"When you think about Italian current reality (politics, economics, news, culture, etc.) what are the three main states of mind you feel while reading the events?\", inplace= True)\n",
    "\n",
    "survey['Question'].replace(\"E, infine, quando pensi alle vicende del mondo (politica, economia, progetti, eventi, etc.) quali sono i tre stati d'animo principali che accompagnano la tua lettura degli eventi?\",\n",
    "                           \"When you think about world events (politics, economics, projects, events, etc.) what are the three main states of mind you feel while reading the events?\", inplace= True)\n",
    "\n",
    "survey['Question'].replace('In generale, quanto sei soddisfatto di come sta andando la tua vita?',\n",
    "                           'Overall, how satisfied are you with your life?', inplace= True)\n",
    "\n",
    "survey['Question'].replace('In generale, quanto sei soddisfatto di come sta andando l\\'Italia?',\n",
    "                           'In general, how satisfied are you about how things in Italy are?', inplace= True)"
   ]
  },
  {
   "cell_type": "code",
   "execution_count": 8,
   "metadata": {},
   "outputs": [
    {
     "name": "stdout",
     "output_type": "stream",
     "text": [
      "['Attivo/ intraprendente' 'Turbato/ Agitato' 'Ostile/ Maldisposto'\n",
      " 'Ispirato/ Stimolato' 'Imbarazzato/ Umiliato' 'Sveglio/ Lucido' 'Nervoso'\n",
      " 'Determinato/ Risoluto' 'Attento/ Sul pezzo' 'Spaventato/ Impaurito'\n",
      " 'Acquistare una nuova auto' 'Acquistare una nuova casa'\n",
      " 'Ristrutturare una mia casa'\n",
      " \"Fare un viaggio all'estero (più di una settimana)\" 'Guadagnare di più'\n",
      " 'Avere una nuova relazione affettiva'\n",
      " 'Spendere una parte dei miei risparmi'\n",
      " 'Aumentare la somma dei miei risparmi' \"Ricevere un'eredità\" 'Gioia'\n",
      " 'Fiducia' 'Speranza' 'Protezione/ Sicurezza' 'Armonia' 'Serenità'\n",
      " 'Tristezza' 'Indifferenza' 'Incomprensione' 'Noia' 'Rabbia'\n",
      " 'Ansia/ Inquietudine' nan]\n"
     ]
    }
   ],
   "source": [
    "# check moods topic\n",
    "print(survey['Topic'].unique())"
   ]
  },
  {
   "cell_type": "code",
   "execution_count": 9,
   "metadata": {},
   "outputs": [],
   "source": [
    "# replace each string with the English one\n",
    "survey['Topic'].replace(['Attivo/ intraprendente', 'Ispirato/ Stimolato', 'Sveglio/ Lucido', 'Determinato/ Risoluto', 'Attento/ Sul pezzo',\n",
    "                        'Gioia', 'Fiducia', 'Speranza', 'Protezione/ Sicurezza', 'Armonia', 'Serenità'], ['Active/ Dynamic', 'Inspired/ Motivated', 'Smart/ Clear headed', 'Determined/ Resolute', 'Attentive/ Alert',\n",
    "                        'Joy', 'Trust', 'Hope', 'Protection/ Safety', 'Armony', 'Calm'], inplace= True )\n",
    "\n",
    "survey['Topic'].replace(['Turbato/ Agitato', 'Ostile/ Maldisposto', 'Imbarazzato/ Umiliato', 'Spaventato/ Impaurito', 'Tristezza',\n",
    "                        'Indifferenza', 'Incomprensione', 'Noia', 'Rabbia', 'Ansia/ Inquietudine'], ['Upset/ Agitated', 'Hostile/ Contentious', 'Uncomfortable/ Embarassed', 'Frightened/ Scared', 'Sadness',\n",
    "                        'Indifference', 'Incomprehension', 'Boredom', 'Anger', 'Anxiety/ Agitation'], inplace= True)\n",
    "\n",
    "survey['Topic'].replace(['Acquistare una nuova auto', 'Acquistare una nuova casa', 'Ristrutturare una mia casa', \"Fare un viaggio all'estero (più di una settimana)\",\n",
    "                        'Guadagnare di più', 'Avere una nuova relazione affettiva', 'Spendere una parte dei miei risparmi',\n",
    "                        'Aumentare la somma dei miei risparmi', \"Ricevere un'eredità\"], ['Buy a new car', 'Buy a new house', 'Refurbish your house', \"Go abroad on jurney (more than a week)\",\n",
    "                        'Earn more money', 'Have a new love story', 'Spend a part of your savings',\n",
    "                        'Increase your savings', \"Inherit something\"], inplace= True)"
   ]
  },
  {
   "cell_type": "code",
   "execution_count": 10,
   "metadata": {},
   "outputs": [
    {
     "name": "stdout",
     "output_type": "stream",
     "text": [
      "['Molto' \"Un po' sì e un po' no\" 'Poco' 'Abbastanza' 'Per niente' 'Uguale'\n",
      " 'Molto più di oggi' 'Molto meno di oggi' \"Un po' più\" \"Un po' meno\"\n",
      " 'Forse sì e forse no' 'Poco probabile' 'Molto probabile o certo'\n",
      " 'Impossibile' 'Abbastanza probabile' 'Not Selected' 'Selected'\n",
      " 'Abbastanza soddisfatto' 'Poco soddisfatto' 'Molto soddisfatto'\n",
      " 'Per nulla soddisfatto']\n"
     ]
    }
   ],
   "source": [
    "# check unique values for answers\n",
    "print(survey['Answer Label'].unique())"
   ]
  },
  {
   "cell_type": "code",
   "execution_count": 11,
   "metadata": {},
   "outputs": [],
   "source": [
    "# replace answer descriptions from Italian to English\n",
    "survey['Answer Label'].replace(['Molto', \"Un po' sì e un po' no\", 'Poco', 'Abbastanza', 'Per niente', 'Uguale',\n",
    "                                'Molto più di oggi', 'Molto meno di oggi', \"Un po' più\", \"Un po' meno\",\n",
    "                                'Forse sì e forse no', 'Poco probabile', 'Molto probabile o certo',\n",
    "                                'Impossibile', 'Abbastanza probabile',\n",
    "                                'Abbastanza soddisfatto', 'Poco soddisfatto', 'Molto soddisfatto',\n",
    "                                'Per nulla soddisfatto'], \n",
    "                                ['A lot', \"A little yes and a little no\", 'A little', 'Quite a lot', 'Not at all', 'The same',\n",
    "                                'Much more than today', 'Much less than today', \"A little more\", \"A little less\",\n",
    "                                'Maybe yes and maybe no', 'Not very likely', 'Very likely or certain',\n",
    "                                'Impossible', 'Quite likely',\n",
    "                                'Quite satisfied', 'Not very satisfied', 'Very satisfied',\n",
    "                                'Not at all satisfied'], inplace= True)"
   ]
  },
  {
   "cell_type": "code",
   "execution_count": 12,
   "metadata": {},
   "outputs": [
    {
     "data": {
      "text/plain": [
       "array(['Diploma di scuola media superiore', 'Laurea o dottorato',\n",
       "       'Diploma di scuola media inferiore',\n",
       "       'Licenza di scuola elementare'], dtype=object)"
      ]
     },
     "execution_count": 12,
     "metadata": {},
     "output_type": "execute_result"
    }
   ],
   "source": [
    "# check other datas to be translated\n",
    "survey['Highest Education'].unique()"
   ]
  },
  {
   "cell_type": "code",
   "execution_count": 13,
   "metadata": {},
   "outputs": [],
   "source": [
    "# translate Education degrees\n",
    "survey['Highest Education'].replace(['Diploma di scuola media superiore', 'Laurea o dottorato','Diploma di scuola media inferiore',\n",
    "                                    'Licenza di scuola elementare'], ['High school diploma', 'Degree or doctorate','Middle school diploma',\n",
    "                                    'Primary school diploma'], inplace= True)"
   ]
  },
  {
   "cell_type": "code",
   "execution_count": 14,
   "metadata": {},
   "outputs": [
    {
     "data": {
      "text/plain": [
       "array(['Un uomo', 'Una donna'], dtype=object)"
      ]
     },
     "execution_count": 14,
     "metadata": {},
     "output_type": "execute_result"
    }
   ],
   "source": [
    "survey['Sex'].unique()"
   ]
  },
  {
   "cell_type": "code",
   "execution_count": 15,
   "metadata": {},
   "outputs": [],
   "source": [
    "# translate col 'Sex' values\n",
    "survey['Sex'].replace(['Un uomo', 'Una donna'], ['Male', 'Female'], inplace= True)"
   ]
  },
  {
   "cell_type": "code",
   "execution_count": 16,
   "metadata": {},
   "outputs": [
    {
     "data": {
      "text/plain": [
       "array(['Male', 'Female'], dtype=object)"
      ]
     },
     "execution_count": 16,
     "metadata": {},
     "output_type": "execute_result"
    }
   ],
   "source": [
    "survey['Sex'].unique()"
   ]
  },
  {
   "cell_type": "code",
   "execution_count": 17,
   "metadata": {},
   "outputs": [
    {
     "data": {
      "text/plain": [
       "array(['No, nel mio nucleo non ci sono bambini 0-14 anni',\n",
       "       'Sì, è presente 1 bambino 0-14 anni',\n",
       "       'Sì, sono presenti 4 bambini 0-14 anni', nan,\n",
       "       'Sì, sono presenti 2 bambini 0-14 anni',\n",
       "       'Sì, sono presenti 3 bambini 0-14 anni',\n",
       "       'Sì, sono presenti 5 o più bambini 0-14 anni'], dtype=object)"
      ]
     },
     "execution_count": 17,
     "metadata": {},
     "output_type": "execute_result"
    }
   ],
   "source": [
    "survey['Num. of Children (0-14 years)'].unique()"
   ]
  },
  {
   "cell_type": "code",
   "execution_count": 18,
   "metadata": {},
   "outputs": [],
   "source": [
    "# replace values of 'Num of Children (0-14 years)' column\n",
    "survey['Num. of Children (0-14 years)'].replace(['No, nel mio nucleo non ci sono bambini 0-14 anni','Sì, è presente 1 bambino 0-14 anni', 'Sì, sono presenti 2 bambini 0-14 anni',\n",
    "                                                'Sì, sono presenti 3 bambini 0-14 anni', 'Sì, sono presenti 4 bambini 0-14 anni', 'Sì, sono presenti 5 o più bambini 0-14 anni'],\n",
    "                                                ['0', '1', '2', '3', '4', '5 or More'], inplace= True)"
   ]
  },
  {
   "cell_type": "code",
   "execution_count": 19,
   "metadata": {},
   "outputs": [
    {
     "data": {
      "text/plain": [
       "array(['No', 'Sì', nan], dtype=object)"
      ]
     },
     "execution_count": 19,
     "metadata": {},
     "output_type": "execute_result"
    }
   ],
   "source": [
    "survey['Pet Friends'].unique()"
   ]
  },
  {
   "cell_type": "code",
   "execution_count": 20,
   "metadata": {},
   "outputs": [],
   "source": [
    "survey['Pet Friends'].replace({'Si':'Yes'}, inplace= True)"
   ]
  },
  {
   "cell_type": "code",
   "execution_count": 21,
   "metadata": {},
   "outputs": [
    {
     "name": "stdout",
     "output_type": "stream",
     "text": [
      "['Please find below some words indicating different sensations and emotions. For each word chose how much you feel this way today'\n",
      " \"Thinking about the future, in a year you'll see yourself more or less...\"\n",
      " 'How do you see your life in the next 12 months? How likely will the next 12 months be to...'\n",
      " 'What are the three main moods that characterize the relationships at your home?'\n",
      " 'What are the three main moods that characterize the relationships you experience with the people who live near you (e.g., in your neighborhood/town)?'\n",
      " 'When you think about Italian current reality (politics, economics, news, culture, etc.) what are the three main states of mind you feel while reading the events?'\n",
      " 'When you think about world events (politics, economics, projects, events, etc.) what are the three main states of mind you feel while reading the events?'\n",
      " 'Overall, how satisfied are you with your life?'\n",
      " 'In general, how satisfied are you about how things in Italy are?']\n",
      "['Active/ Dynamic' 'Upset/ Agitated' 'Hostile/ Contentious'\n",
      " 'Inspired/ Motivated' 'Uncomfortable/ Embarassed' 'Smart/ Clear headed'\n",
      " 'Nervoso' 'Determined/ Resolute' 'Attentive/ Alert' 'Frightened/ Scared'\n",
      " 'Buy a new car' 'Buy a new house' 'Refurbish your house'\n",
      " 'Go abroad on jurney (more than a week)' 'Earn more money'\n",
      " 'Have a new love story' 'Spend a part of your savings'\n",
      " 'Increase your savings' 'Inherit something' 'Joy' 'Trust' 'Hope'\n",
      " 'Protection/ Safety' 'Armony' 'Calm' 'Sadness' 'Indifference'\n",
      " 'Incomprehension' 'Boredom' 'Anger' 'Anxiety/ Agitation' nan]\n",
      "['A lot' 'A little yes and a little no' 'A little' 'Quite a lot'\n",
      " 'Not at all' 'The same' 'Much more than today' 'Much less than today'\n",
      " 'A little more' 'A little less' 'Maybe yes and maybe no'\n",
      " 'Not very likely' 'Very likely or certain' 'Impossible' 'Quite likely'\n",
      " 'Not Selected' 'Selected' 'Quite satisfied' 'Not very satisfied'\n",
      " 'Very satisfied' 'Not at all satisfied']\n",
      "['High school diploma' 'Degree or doctorate' 'Middle school diploma'\n",
      " 'Primary school diploma']\n",
      "['Male' 'Female']\n",
      "['0' '1' '4' nan '2' '3' '5 or More']\n"
     ]
    }
   ],
   "source": [
    "print(survey['Question'].unique())\n",
    "print(survey['Topic'].unique())\n",
    "print(survey['Answer Label'].unique())\n",
    "print(survey['Highest Education'].unique())\n",
    "print(survey['Sex'].unique())\n",
    "print(survey['Num. of Children (0-14 years)'].unique())"
   ]
  },
  {
   "cell_type": "code",
   "execution_count": 22,
   "metadata": {},
   "outputs": [],
   "source": [
    "# save translated survey into CSV\n",
    "survey.to_csv('data_clean/02_survey_eng.csv', index=False)"
   ]
  }
 ],
 "metadata": {
  "kernelspec": {
   "display_name": "elaisa",
   "language": "python",
   "name": "python3"
  },
  "language_info": {
   "codemirror_mode": {
    "name": "ipython",
    "version": 3
   },
   "file_extension": ".py",
   "mimetype": "text/x-python",
   "name": "python",
   "nbconvert_exporter": "python",
   "pygments_lexer": "ipython3",
   "version": "3.9.12"
  }
 },
 "nbformat": 4,
 "nbformat_minor": 2
}
